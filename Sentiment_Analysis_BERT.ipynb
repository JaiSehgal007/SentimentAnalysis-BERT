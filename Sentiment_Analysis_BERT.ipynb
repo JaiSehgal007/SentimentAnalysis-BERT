{
  "cells": [
    {
      "cell_type": "markdown",
      "metadata": {
        "id": "wo3O15um952k"
      },
      "source": [
        "Game Plan\n",
        "1. Install Transformers\n",
        "2. Perform Sentiment Scoring using BERT\n",
        "3. Scrape reviews from Yelp and Score\n",
        "\n",
        "How it Works\n",
        "1. Download and install BERT from Hugginf Face Transformers\n",
        "2. Run sentiment analysis on reviews\n",
        "3. Scrape reviews from yelp and score"
      ]
    },
    {
      "cell_type": "markdown",
      "metadata": {
        "id": "FmbivVB9952n"
      },
      "source": [
        "Install and Import Dependencies"
      ]
    },
    {
      "cell_type": "code",
      "execution_count": null,
      "metadata": {
        "id": "yIuP5NRq952o"
      },
      "outputs": [],
      "source": [
        "# tokenizer will take the strings and then conver that into sequence of numbers that we can pass to our nlp model\n",
        "from transformers import AutoTokenizer, AutoModelForSequenceClassification\n",
        "import torch\n",
        "import requests\n",
        "from bs4 import BeautifulSoup\n",
        "import re"
      ]
    },
    {
      "cell_type": "markdown",
      "metadata": {
        "id": "OeG-dDk3952q"
      },
      "source": [
        "Instantiate Model"
      ]
    },
    {
      "cell_type": "code",
      "execution_count": null,
      "metadata": {
        "id": "BpiuCzVf952q"
      },
      "outputs": [],
      "source": [
        "tokenizer = AutoTokenizer.from_pretrained('nlptown/bert-base-multilingual-uncased-sentiment')\n",
        "model = AutoModelForSequenceClassification.from_pretrained('nlptown/bert-base-multilingual-uncased-sentiment')"
      ]
    },
    {
      "cell_type": "markdown",
      "metadata": {
        "id": "-LVbyQ0m952q"
      },
      "source": [
        "Encode and Calculate Sentiment"
      ]
    },
    {
      "cell_type": "code",
      "execution_count": null,
      "metadata": {
        "id": "Olvh4-s_952r"
      },
      "outputs": [],
      "source": [
        "tokens=tokenizer.encode('Best place ever visited',return_tensors='pt')\n",
        "# print(tokens)\n",
        "# print(tokenizer.decode(tokens[0]))"
      ]
    },
    {
      "cell_type": "code",
      "execution_count": null,
      "metadata": {
        "id": "ieZ1i02x952r"
      },
      "outputs": [],
      "source": [
        "result = model(tokens)\n",
        "# print(result)"
      ]
    },
    {
      "cell_type": "code",
      "execution_count": null,
      "metadata": {
        "id": "YqvsXihf952r",
        "outputId": "aa54fd0e-5500-4250-f82a-b1316ab8959b"
      },
      "outputs": [
        {
          "data": {
            "text/plain": [
              "tensor(5)"
            ]
          },
          "execution_count": 19,
          "metadata": {},
          "output_type": "execute_result"
        }
      ],
      "source": [
        "# this is the index of the highest value given by the model +1 means that is the index 0 is\n",
        "# having highest value then the rating is zero\n",
        "torch.argmax(result.logits)+1"
      ]
    },
    {
      "cell_type": "markdown",
      "metadata": {
        "id": "3IU6g8ws952t"
      },
      "source": [
        "Collect Reviews"
      ]
    },
    {
      "cell_type": "code",
      "execution_count": null,
      "metadata": {
        "id": "SF6mSw62952t"
      },
      "outputs": [],
      "source": [
        "r=requests.get('https://www.yelp.com/biz/social-brew-cafe-pyrmont') # gets the html of page\n",
        "soup=BeautifulSoup(r.text,'html.parser') # parse the content as html\n",
        "regex=re.compile('.*comment.*') # a regex expression for matching comment\n",
        "results=soup.find_all('p',{'class':regex}) # find all the p tags which have a class name with the given regex\n",
        "reviews=[result.text for result in results] #collect all the tesxt inside the tags"
      ]
    },
    {
      "cell_type": "markdown",
      "metadata": {
        "id": "lsl6Kv9_952t"
      },
      "source": [
        "Load Reviews into DataFrame and Score"
      ]
    },
    {
      "cell_type": "code",
      "execution_count": null,
      "metadata": {
        "id": "v8GdsIBv952u"
      },
      "outputs": [],
      "source": [
        "import numpy as np\n",
        "import pandas as pd"
      ]
    },
    {
      "cell_type": "code",
      "execution_count": null,
      "metadata": {
        "id": "ZBv75zt-952u"
      },
      "outputs": [],
      "source": [
        "df=pd.DataFrame(np.array(reviews),columns=['review'])\n",
        "# to view any row print\n",
        "# df['review].iloc[0]"
      ]
    },
    {
      "cell_type": "code",
      "execution_count": null,
      "metadata": {
        "id": "ip6R5yN-952u"
      },
      "outputs": [],
      "source": [
        "def sentiment_score(review):\n",
        "    # Split the review into chunks of 512 tokens\n",
        "    # this is because the maximum token size that can be passed is 512 only\n",
        "    max_seq_length = 512\n",
        "    chunks = [review[i:i+max_seq_length] for i in range(0, len(review), max_seq_length)]\n",
        "\n",
        "    # Initialize variables to store sentiment scores and counts\n",
        "    scores = []\n",
        "    count = 0\n",
        "\n",
        "    # Process each chunk\n",
        "    for chunk in chunks:\n",
        "        tokens = tokenizer.encode(chunk, return_tensors='pt', max_length=max_seq_length, truncation=True)\n",
        "        result = model(tokens)\n",
        "        score = int(torch.argmax(result.logits)) + 1\n",
        "        scores.append(score)\n",
        "        count += 1\n",
        "\n",
        "    # Calculate the average sentiment score\n",
        "    avg_score = round(sum(scores) / count)\n",
        "    return avg_score"
      ]
    },
    {
      "cell_type": "code",
      "execution_count": null,
      "metadata": {
        "id": "L03bwSqu952v"
      },
      "outputs": [],
      "source": [
        "df['sentiment']=df['review'].apply(lambda x: sentiment_score(x))"
      ]
    },
    {
      "cell_type": "code",
      "execution_count": null,
      "metadata": {
        "id": "caz7VqEZ952v",
        "outputId": "63dfcf48-b0a2-41dd-d80f-ce7c3eb0a74e"
      },
      "outputs": [
        {
          "data": {
            "text/html": [
              "<div>\n",
              "<style scoped>\n",
              "    .dataframe tbody tr th:only-of-type {\n",
              "        vertical-align: middle;\n",
              "    }\n",
              "\n",
              "    .dataframe tbody tr th {\n",
              "        vertical-align: top;\n",
              "    }\n",
              "\n",
              "    .dataframe thead th {\n",
              "        text-align: right;\n",
              "    }\n",
              "</style>\n",
              "<table border=\"1\" class=\"dataframe\">\n",
              "  <thead>\n",
              "    <tr style=\"text-align: right;\">\n",
              "      <th></th>\n",
              "      <th>review</th>\n",
              "      <th>sentiment</th>\n",
              "    </tr>\n",
              "  </thead>\n",
              "  <tbody>\n",
              "    <tr>\n",
              "      <th>0</th>\n",
              "      <td>Very cute coffee shop and restaurant. They hav...</td>\n",
              "      <td>4</td>\n",
              "    </tr>\n",
              "    <tr>\n",
              "      <th>1</th>\n",
              "      <td>Six of us met here for breakfast before our wa...</td>\n",
              "      <td>4</td>\n",
              "    </tr>\n",
              "    <tr>\n",
              "      <th>2</th>\n",
              "      <td>Great service, lovely location, and really ama...</td>\n",
              "      <td>5</td>\n",
              "    </tr>\n",
              "    <tr>\n",
              "      <th>3</th>\n",
              "      <td>Great place with delicious food and friendly s...</td>\n",
              "      <td>5</td>\n",
              "    </tr>\n",
              "    <tr>\n",
              "      <th>4</th>\n",
              "      <td>Some of the best Milkshakes me and my daughter...</td>\n",
              "      <td>5</td>\n",
              "    </tr>\n",
              "    <tr>\n",
              "      <th>5</th>\n",
              "      <td>Great food amazing coffee and tea. Short walk ...</td>\n",
              "      <td>5</td>\n",
              "    </tr>\n",
              "    <tr>\n",
              "      <th>6</th>\n",
              "      <td>It was ok. Had coffee with my friends. I'm new...</td>\n",
              "      <td>3</td>\n",
              "    </tr>\n",
              "    <tr>\n",
              "      <th>7</th>\n",
              "      <td>Ricotta hot cakes! These were so yummy. I ate ...</td>\n",
              "      <td>5</td>\n",
              "    </tr>\n",
              "    <tr>\n",
              "      <th>8</th>\n",
              "      <td>We came for brunch twice in our week-long visi...</td>\n",
              "      <td>4</td>\n",
              "    </tr>\n",
              "    <tr>\n",
              "      <th>9</th>\n",
              "      <td>Great staff and food.  Must try is the pan fri...</td>\n",
              "      <td>5</td>\n",
              "    </tr>\n",
              "  </tbody>\n",
              "</table>\n",
              "</div>"
            ],
            "text/plain": [
              "                                              review  sentiment\n",
              "0  Very cute coffee shop and restaurant. They hav...          4\n",
              "1  Six of us met here for breakfast before our wa...          4\n",
              "2  Great service, lovely location, and really ama...          5\n",
              "3  Great place with delicious food and friendly s...          5\n",
              "4  Some of the best Milkshakes me and my daughter...          5\n",
              "5  Great food amazing coffee and tea. Short walk ...          5\n",
              "6  It was ok. Had coffee with my friends. I'm new...          3\n",
              "7  Ricotta hot cakes! These were so yummy. I ate ...          5\n",
              "8  We came for brunch twice in our week-long visi...          4\n",
              "9  Great staff and food.  Must try is the pan fri...          5"
            ]
          },
          "execution_count": 25,
          "metadata": {},
          "output_type": "execute_result"
        }
      ],
      "source": [
        "df"
      ]
    }
  ],
  "metadata": {
    "kernelspec": {
      "display_name": "Python 3",
      "language": "python",
      "name": "python3"
    },
    "language_info": {
      "codemirror_mode": {
        "name": "ipython",
        "version": 3
      },
      "file_extension": ".py",
      "mimetype": "text/x-python",
      "name": "python",
      "nbconvert_exporter": "python",
      "pygments_lexer": "ipython3",
      "version": "3.11.5"
    },
    "colab": {
      "provenance": []
    }
  },
  "nbformat": 4,
  "nbformat_minor": 0
}